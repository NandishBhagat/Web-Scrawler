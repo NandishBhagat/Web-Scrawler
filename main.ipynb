{
 "cells": [
  {
   "cell_type": "code",
   "execution_count": 1,
   "metadata": {
    "collapsed": true
   },
   "outputs": [],
   "source": [
    "import csv\n",
    "from bs4 import BeautifulSoup"
   ]
  },
  {
   "cell_type": "code",
   "execution_count": 2,
   "outputs": [
    {
     "name": "stderr",
     "output_type": "stream",
     "text": [
      "C:\\Users\\bhaga\\AppData\\Local\\Temp\\ipykernel_1884\\1471962485.py:5: DeprecationWarning: executable_path has been deprecated, please pass in a Service object\n",
      "  driver = webdriver.Chrome(ChromeDriverManager().install())\n"
     ]
    }
   ],
   "source": [
    "from selenium import webdriver\n",
    "\n",
    "from webdriver_manager.chrome import ChromeDriverManager\n",
    "\n",
    "driver = webdriver.Chrome(ChromeDriverManager().install())"
   ],
   "metadata": {
    "collapsed": false
   }
  },
  {
   "cell_type": "code",
   "execution_count": 3,
   "outputs": [],
   "source": [
    "url='https://www.amazon.com'\n",
    "driver.get(url)"
   ],
   "metadata": {
    "collapsed": false
   }
  },
  {
   "cell_type": "code",
   "execution_count": 4,
   "outputs": [],
   "source": [
    "def get_url(search):\n",
    "    template='https://www.amazon.com/s?k={}&ref=nav_bb_sb'\n",
    "    search=search.replace(' ','+')\n",
    "    return template.format(search)"
   ],
   "metadata": {
    "collapsed": false
   }
  },
  {
   "cell_type": "code",
   "execution_count": 5,
   "outputs": [
    {
     "name": "stdout",
     "output_type": "stream",
     "text": [
      "https://www.amazon.com/s?k=ultrawide+monitor&ref=nav_bb_sb\n"
     ]
    }
   ],
   "source": [
    "url=get_url('ultrawide monitor')\n",
    "print(url)"
   ],
   "metadata": {
    "collapsed": false
   }
  },
  {
   "cell_type": "code",
   "execution_count": 6,
   "outputs": [],
   "source": [
    "driver.get(url)"
   ],
   "metadata": {
    "collapsed": false
   }
  },
  {
   "cell_type": "code",
   "execution_count": 7,
   "outputs": [],
   "source": [
    "soup=BeautifulSoup(driver.page_source,'html.parser')"
   ],
   "metadata": {
    "collapsed": false
   }
  },
  {
   "cell_type": "code",
   "execution_count": 8,
   "outputs": [],
   "source": [
    "result=soup.find_all('div',{'data-component-type':'s-search-result'})"
   ],
   "metadata": {
    "collapsed": false
   }
  },
  {
   "cell_type": "code",
   "execution_count": 9,
   "outputs": [
    {
     "data": {
      "text/plain": "22"
     },
     "execution_count": 9,
     "metadata": {},
     "output_type": "execute_result"
    }
   ],
   "source": [
    "len(result)"
   ],
   "metadata": {
    "collapsed": false
   }
  },
  {
   "cell_type": "code",
   "execution_count": 10,
   "outputs": [],
   "source": [
    "item=result[0]"
   ],
   "metadata": {
    "collapsed": false
   }
  },
  {
   "cell_type": "code",
   "execution_count": 11,
   "outputs": [],
   "source": [
    "atag=item.h2.a"
   ],
   "metadata": {
    "collapsed": false
   }
  },
  {
   "cell_type": "code",
   "execution_count": 14,
   "outputs": [
    {
     "data": {
      "text/plain": "'INNOCN Ultrawide Monitor 43.8\" WFHD 3840 x 1080p 120Hz Monitor 32:9 IPS Computer Split Screen Monitor 96% DCI-P3 HDR400 FreeSync Premium USB Type-C HDMI Height Adjustable Mountable Monitor - 44C1G'"
     },
     "execution_count": 14,
     "metadata": {},
     "output_type": "execute_result"
    }
   ],
   "source": [
    "description = atag.text.strip()"
   ],
   "metadata": {
    "collapsed": false
   }
  },
  {
   "cell_type": "code",
   "execution_count": 24,
   "outputs": [],
   "source": [
    "url = 'https://www.amazon.com'+atag.get('href')"
   ],
   "metadata": {
    "collapsed": false
   }
  },
  {
   "cell_type": "code",
   "execution_count": 27,
   "outputs": [],
   "source": [
    "price_parent=item.find('span','a-price')\n",
    "price=price_parent.find('span','a-offscreen').text"
   ],
   "metadata": {
    "collapsed": false
   }
  },
  {
   "cell_type": "code",
   "execution_count": 28,
   "outputs": [],
   "source": [
    "rating=item.i.text"
   ],
   "metadata": {
    "collapsed": false
   }
  },
  {
   "cell_type": "code",
   "execution_count": 29,
   "outputs": [],
   "source": [
    "review_count=item.find('span','a-size-base').text"
   ],
   "metadata": {
    "collapsed": false
   }
  },
  {
   "cell_type": "code",
   "execution_count": 32,
   "outputs": [],
   "source": [
    "def myfunction_to_extract_records(item):\n",
    "    atag=item.h2.a\n",
    "    description = atag.text.strip()\n",
    "    url = 'https://www.amazon.com'+atag.get('href')\n",
    "    try:\n",
    "        price_parent=item.find('span','a-price')\n",
    "        price=price_parent.find('span','a-offscreen').text\n",
    "    except AttributeError:\n",
    "        return\n",
    "\n",
    "    try:\n",
    "        rating=item.i.text\n",
    "        review_count=item.find('span','a-size-base').text\n",
    "    except AttributeError:\n",
    "        rating=''\n",
    "        review_count=''\n",
    "\n",
    "    result = (description,price,rating,review_count,url)\n",
    "\n",
    "    return result"
   ],
   "metadata": {
    "collapsed": false
   }
  },
  {
   "cell_type": "code",
   "execution_count": 33,
   "outputs": [],
   "source": [
    "records=[]\n",
    "\n",
    "results=soup.find_all('div',{'data-component-type':'s-search-result'})\n",
    "\n",
    "for item in results:\n",
    "    record=myfunction_to_extract_records(item)\n",
    "    if record:\n",
    "        records.append(record)"
   ],
   "metadata": {
    "collapsed": false
   }
  },
  {
   "cell_type": "code",
   "execution_count": 34,
   "outputs": [
    {
     "data": {
      "text/plain": "('INNOCN Ultrawide Monitor 43.8\" WFHD 3840 x 1080p 120Hz Monitor 32:9 IPS Computer Split Screen Monitor 96% DCI-P3 HDR400 FreeSync Premium USB Type-C HDMI Height Adjustable Mountable Monitor - 44C1G',\n '$519.99',\n '4.3 out of 5 stars',\n '24',\n 'https://www.amazon.com/gp/slredirect/picassoRedirect.html/ref=pa_sp_atf_aps_sr_pg1_1?ie=UTF8&adId=A07547753MU56VG4U0UQ4&url=%2FINNOCN-Ultrawide-Monitor-1080p-120Hz%2Fdp%2FB09WR3SKR4%2Fref%3Dsr_1_1_sspa%3Fkeywords%3Dultrawide%2Bmonitor%26qid%3D1664830498%26qu%3DeyJxc2MiOiI2LjU0IiwicXNhIjoiNi4zMCIsInFzcCI6IjUuNzMifQ%253D%253D%26sr%3D8-1-spons%26psc%3D1&qualifier=1664830498&id=4376135864979707&widgetName=sp_atf')"
     },
     "execution_count": 34,
     "metadata": {},
     "output_type": "execute_result"
    }
   ],
   "source": [
    "records[0]"
   ],
   "metadata": {
    "collapsed": false
   }
  },
  {
   "cell_type": "code",
   "execution_count": 36,
   "outputs": [
    {
     "name": "stdout",
     "output_type": "stream",
     "text": [
      "$519.99\n",
      "$599.99\n",
      "$199.99\n",
      "$196.99\n",
      "$299.99\n",
      "$1,199.99\n",
      "$3,299.99\n",
      "$229.99\n",
      "$369.99\n",
      "$496.99\n",
      "$549.99\n",
      "$499.00\n",
      "$299.99\n",
      "$389.99\n",
      "$489.97\n",
      "$249.99\n",
      "$899.99\n",
      "$799.00\n",
      "$389.98\n",
      "$276.99\n",
      "$760.88\n",
      "$909.99\n"
     ]
    }
   ],
   "source": [
    "for row in records:\n",
    "    print(row[1])"
   ],
   "metadata": {
    "collapsed": false
   }
  },
  {
   "cell_type": "markdown",
   "source": [
    "#Going to next page"
   ],
   "metadata": {
    "collapsed": false
   }
  },
  {
   "cell_type": "code",
   "execution_count": 37,
   "outputs": [],
   "source": [
    "def get_url(search):\n",
    "    template='https://www.amazon.com/s?k={}&ref=nav_bb_sb'\n",
    "    search=search.replace(' ','+')\n",
    "\n",
    "    url=template.format(search)\n",
    "    url+='&page={}'\n",
    "    return url"
   ],
   "metadata": {
    "collapsed": false
   }
  },
  {
   "cell_type": "code",
   "execution_count": 5,
   "outputs": [],
   "source": [],
   "metadata": {
    "collapsed": false
   }
  },
  {
   "cell_type": "code",
   "execution_count": 6,
   "outputs": [
    {
     "name": "stderr",
     "output_type": "stream",
     "text": [
      "C:\\Users\\bhaga\\AppData\\Local\\Temp\\ipykernel_23212\\4212916001.py:48: DeprecationWarning: executable_path has been deprecated, please pass in a Service object\n",
      "  driver = webdriver.Chrome(ChromeDriverManager().install())\n"
     ]
    }
   ],
   "source": [],
   "metadata": {
    "collapsed": false
   }
  },
  {
   "cell_type": "code",
   "execution_count": null,
   "outputs": [],
   "source": [],
   "metadata": {
    "collapsed": false
   }
  }
 ],
 "metadata": {
  "kernelspec": {
   "display_name": "Python 3",
   "language": "python",
   "name": "python3"
  },
  "language_info": {
   "codemirror_mode": {
    "name": "ipython",
    "version": 2
   },
   "file_extension": ".py",
   "mimetype": "text/x-python",
   "name": "python",
   "nbconvert_exporter": "python",
   "pygments_lexer": "ipython2",
   "version": "2.7.6"
  }
 },
 "nbformat": 4,
 "nbformat_minor": 0
}
