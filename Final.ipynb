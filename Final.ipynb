{
 "cells": [
  {
   "cell_type": "markdown",
   "source": [
    "Final Code"
   ],
   "metadata": {
    "collapsed": false
   }
  },
  {
   "cell_type": "code",
   "execution_count": 1,
   "metadata": {
    "collapsed": true
   },
   "outputs": [],
   "source": [
    "import csv\n",
    "from bs4 import BeautifulSoup\n",
    "from selenium import webdriver\n",
    "\n",
    "from webdriver_manager.chrome import ChromeDriverManager\n",
    "\n",
    "\n",
    "\n",
    "def get_url(search):\n",
    "    template='https://www.amazon.com/s?k={}&ref=nav_bb_sb'\n",
    "    search=search.replace(' ','+')\n",
    "\n",
    "    url=template.format(search)\n",
    "    #Adding page='any num' so we can get details from each page\n",
    "    url+='&page={}'\n",
    "    return url\n",
    "\n",
    "def myfunction_to_extract_records(item):\n",
    "\n",
    "    atag=item.h2.a\n",
    "    #To get the Product Name\n",
    "    description = atag.text.strip()\n",
    "    url = 'https://www.amazon.com'+atag.get('href')\n",
    "    #Error Handling in case we have products with no price\n",
    "    try:\n",
    "        #To get the product price\n",
    "        price_parent=item.find('span','a-price')\n",
    "        price=price_parent.find('span','a-offscreen').text\n",
    "    except AttributeError:\n",
    "        return\n",
    "    #Error Handling in case we have products with no rating or review count\n",
    "    try:\n",
    "        #To get the product rating and review count\n",
    "        rating=item.i.text\n",
    "        review_count=item.find('span','a-size-base').text\n",
    "    except AttributeError:\n",
    "        rating=''\n",
    "        review_count=''\n",
    "\n",
    "    #Stroring final result\n",
    "    result = (description,price,rating,review_count,url)\n",
    "\n",
    "    return result\n",
    "\n",
    "def main(search):\n",
    "\n",
    "    #Opening the driver with crome\n",
    "    driver = webdriver.Chrome(ChromeDriverManager().install())\n",
    "\n",
    "    records=[]\n",
    "    url=get_url(search)\n",
    "\n",
    "    #Iterating through the pages\n",
    "    inpu2=int(input(\"How many pages?\"))\n",
    "    for page in range(1,inpu2+1):\n",
    "        driver.get(url.format(page))\n",
    "        #using BeautifulSoup for parsing HTML\n",
    "        soup = BeautifulSoup(driver.page_source,'html.parser')\n",
    "\n",
    "        #finding all the products on Amazon page\n",
    "        results=soup.find_all('div',{'data-component-type':'s-search-result'})\n",
    "\n",
    "        #iterating through each product and fetching the information\n",
    "        for item in results:\n",
    "            record=myfunction_to_extract_records(item)\n",
    "            if record:\n",
    "                records.append(record)\n",
    "    #closing the driver after use\n",
    "    driver.close()\n",
    "    #Storing all the data in CSV file\n",
    "    with open('results.csv','w',newline='',encoding='utf-8') as var:\n",
    "        writer=csv.writer(var)\n",
    "        writer.writerow(['Description','Price','Rating', 'Review Count', 'URL'])\n",
    "        writer.writerows(records)"
   ]
  },
  {
   "cell_type": "code",
   "execution_count": 2,
   "outputs": [
    {
     "name": "stderr",
     "output_type": "stream",
     "text": [
      "C:\\Users\\bhaga\\AppData\\Local\\Temp\\ipykernel_5972\\4212916001.py:48: DeprecationWarning: executable_path has been deprecated, please pass in a Service object\n",
      "  driver = webdriver.Chrome(ChromeDriverManager().install())\n"
     ]
    }
   ],
   "source": [
    "inpu=input(\"Enter the product\")\n",
    "main(inpu)"
   ],
   "metadata": {
    "collapsed": false
   }
  },
  {
   "cell_type": "code",
   "execution_count": null,
   "outputs": [],
   "source": [],
   "metadata": {
    "collapsed": false
   }
  }
 ],
 "metadata": {
  "kernelspec": {
   "display_name": "Python 3",
   "language": "python",
   "name": "python3"
  },
  "language_info": {
   "codemirror_mode": {
    "name": "ipython",
    "version": 2
   },
   "file_extension": ".py",
   "mimetype": "text/x-python",
   "name": "python",
   "nbconvert_exporter": "python",
   "pygments_lexer": "ipython2",
   "version": "2.7.6"
  }
 },
 "nbformat": 4,
 "nbformat_minor": 0
}
