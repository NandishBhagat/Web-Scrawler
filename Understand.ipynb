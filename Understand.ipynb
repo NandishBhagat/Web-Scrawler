{
 "cells": [
  {
   "cell_type": "code",
   "execution_count": 1,
   "metadata": {
    "collapsed": true
   },
   "outputs": [],
   "source": [
    "import csv\n",
    "from bs4 import BeautifulSoup"
   ]
  },
  {
   "cell_type": "code",
   "execution_count": 2,
   "outputs": [
    {
     "name": "stderr",
     "output_type": "stream",
     "text": [
      "C:\\Users\\bhaga\\AppData\\Local\\Temp\\ipykernel_8804\\1471962485.py:5: DeprecationWarning: executable_path has been deprecated, please pass in a Service object\n",
      "  driver = webdriver.Chrome(ChromeDriverManager().install())\n"
     ]
    }
   ],
   "source": [
    "from selenium import webdriver\n",
    "\n",
    "from webdriver_manager.chrome import ChromeDriverManager\n",
    "\n",
    "driver = webdriver.Chrome(ChromeDriverManager().install())"
   ],
   "metadata": {
    "collapsed": false
   }
  },
  {
   "cell_type": "code",
   "execution_count": 3,
   "outputs": [],
   "source": [
    "url='https://www.amazon.com'\n",
    "driver.get(url)"
   ],
   "metadata": {
    "collapsed": false
   }
  },
  {
   "cell_type": "code",
   "execution_count": 4,
   "outputs": [],
   "source": [
    "def get_url(search):\n",
    "    template='https://www.amazon.com/s?k={}&ref=nav_bb_sb'\n",
    "    search=search.replace(' ','+')\n",
    "    return template.format(search)"
   ],
   "metadata": {
    "collapsed": false
   }
  },
  {
   "cell_type": "code",
   "execution_count": 5,
   "outputs": [
    {
     "name": "stdout",
     "output_type": "stream",
     "text": [
      "https://www.amazon.com/s?k=ultrawide+monitor&ref=nav_bb_sb\n"
     ]
    }
   ],
   "source": [
    "url=get_url('ultrawide monitor')\n",
    "print(url)"
   ],
   "metadata": {
    "collapsed": false
   }
  },
  {
   "cell_type": "code",
   "execution_count": 6,
   "outputs": [],
   "source": [
    "driver.get(url)"
   ],
   "metadata": {
    "collapsed": false
   }
  },
  {
   "cell_type": "code",
   "execution_count": 7,
   "outputs": [],
   "source": [
    "soup=BeautifulSoup(driver.page_source,'html.parser')"
   ],
   "metadata": {
    "collapsed": false
   }
  },
  {
   "cell_type": "code",
   "execution_count": 8,
   "outputs": [],
   "source": [
    "result=soup.find_all('div',{'data-component-type':'s-search-result'})"
   ],
   "metadata": {
    "collapsed": false
   }
  },
  {
   "cell_type": "code",
   "execution_count": 9,
   "outputs": [
    {
     "data": {
      "text/plain": "22"
     },
     "execution_count": 9,
     "metadata": {},
     "output_type": "execute_result"
    }
   ],
   "source": [
    "len(result)"
   ],
   "metadata": {
    "collapsed": false
   }
  },
  {
   "cell_type": "code",
   "execution_count": 10,
   "outputs": [],
   "source": [
    "item=result[0]"
   ],
   "metadata": {
    "collapsed": false
   }
  },
  {
   "cell_type": "code",
   "execution_count": 11,
   "outputs": [],
   "source": [
    "atag=item.h2.a"
   ],
   "metadata": {
    "collapsed": false
   }
  },
  {
   "cell_type": "code",
   "execution_count": 12,
   "outputs": [],
   "source": [
    "description = atag.text.strip()"
   ],
   "metadata": {
    "collapsed": false
   }
  },
  {
   "cell_type": "code",
   "execution_count": 13,
   "outputs": [],
   "source": [
    "url = 'https://www.amazon.com'+atag.get('href')"
   ],
   "metadata": {
    "collapsed": false
   }
  },
  {
   "cell_type": "code",
   "execution_count": 14,
   "outputs": [],
   "source": [
    "price_parent=item.find('span','a-price')\n",
    "price=price_parent.find('span','a-offscreen').text"
   ],
   "metadata": {
    "collapsed": false
   }
  },
  {
   "cell_type": "code",
   "execution_count": 15,
   "outputs": [],
   "source": [
    "rating=item.i.text"
   ],
   "metadata": {
    "collapsed": false
   }
  },
  {
   "cell_type": "code",
   "execution_count": 16,
   "outputs": [
    {
     "ename": "AttributeError",
     "evalue": "'NoneType' object has no attribute 'text'",
     "output_type": "error",
     "traceback": [
      "\u001B[1;31m---------------------------------------------------------------------------\u001B[0m",
      "\u001B[1;31mAttributeError\u001B[0m                            Traceback (most recent call last)",
      "Cell \u001B[1;32mIn [16], line 1\u001B[0m\n\u001B[1;32m----> 1\u001B[0m review_count\u001B[38;5;241m=\u001B[39mitem\u001B[38;5;241m.\u001B[39mfind(\u001B[38;5;124m'\u001B[39m\u001B[38;5;124mspan\u001B[39m\u001B[38;5;124m'\u001B[39m,\u001B[38;5;124m'\u001B[39m\u001B[38;5;124ma-size-base\u001B[39m\u001B[38;5;124m'\u001B[39m)\u001B[38;5;241m.\u001B[39mtext\n",
      "\u001B[1;31mAttributeError\u001B[0m: 'NoneType' object has no attribute 'text'"
     ]
    }
   ],
   "source": [
    "review_count=item.find('span','a-size-base').text"
   ],
   "metadata": {
    "collapsed": false
   }
  },
  {
   "cell_type": "code",
   "execution_count": 18,
   "outputs": [],
   "source": [
    "def myfunction_to_extract_records(item):\n",
    "    atag=item.h2.a\n",
    "    description = atag.text.strip()\n",
    "    url = 'https://www.amazon.com'+atag.get('href')\n",
    "    try:\n",
    "        price_parent=item.find('span','a-price')\n",
    "        price=price_parent.find('span','a-offscreen').text\n",
    "    except AttributeError:\n",
    "        return\n",
    "\n",
    "    try:\n",
    "        rating=item.i.text\n",
    "        review_count=item.find('span','a-size-base').text\n",
    "    except AttributeError:\n",
    "        rating=''\n",
    "        review_count=''\n",
    "\n",
    "    result = (description,price,rating,review_count,url)\n",
    "\n",
    "    return result"
   ],
   "metadata": {
    "collapsed": false
   }
  },
  {
   "cell_type": "code",
   "execution_count": 19,
   "outputs": [],
   "source": [
    "records=[]\n",
    "\n",
    "results=soup.find_all('div',{'data-component-type':'s-search-result'})\n",
    "\n",
    "for item in results:\n",
    "    record=myfunction_to_extract_records(item)\n",
    "    if record:\n",
    "        records.append(record)"
   ],
   "metadata": {
    "collapsed": false
   }
  },
  {
   "cell_type": "code",
   "execution_count": 20,
   "outputs": [
    {
     "data": {
      "text/plain": "('Sceptre 34-Inch IPS UltraWide Monitor 3440 x 1440 up to 100Hz 99% sRGB PIP PBP Edgeless HDMI x3 DisplayPort Build-in Speakers, Blue Light Shift Height Adjustable Machine Black 2023 (E345W-QUT)',\n '$279.97',\n '',\n '',\n 'https://www.amazon.com/sspa/click?ie=UTF8&spc=MTozMjMxMzQ0NDI4MzkwODIzOjE2NjQ4NDgzNTk6c3BfYXRmOjIwMDA5MDI0NzgyNjY5ODo6MDo6&sp_csd=d2lkZ2V0TmFtZT1zcF9hdGY&url=%2FSceptre-UltraWide-DisplayPort-Adjustable-E345W-QUT%2Fdp%2FB0BDPH2DS2%2Fref%3Dsr_1_1_sspa%3Fkeywords%3Dultrawide%2Bmonitor%26qid%3D1664848359%26qu%3DeyJxc2MiOiI2LjU0IiwicXNhIjoiNi4zMCIsInFzcCI6IjUuNzMifQ%253D%253D%26sr%3D8-1-spons%26psc%3D1')"
     },
     "execution_count": 20,
     "metadata": {},
     "output_type": "execute_result"
    }
   ],
   "source": [
    "records[0]"
   ],
   "metadata": {
    "collapsed": false
   }
  },
  {
   "cell_type": "code",
   "execution_count": 21,
   "outputs": [
    {
     "name": "stdout",
     "output_type": "stream",
     "text": [
      "$279.97\n",
      "$519.99\n",
      "$199.99\n",
      "$196.99\n",
      "$299.99\n",
      "$1,199.99\n",
      "$3,299.99\n",
      "$496.99\n",
      "$369.99\n",
      "$229.99\n",
      "$549.99\n",
      "$269.99\n",
      "$299.99\n",
      "$389.99\n",
      "$389.98\n",
      "$249.99\n",
      "$499.00\n",
      "$276.99\n",
      "$489.97\n",
      "$799.00\n",
      "$760.88\n",
      "$899.99\n"
     ]
    }
   ],
   "source": [
    "for row in records:\n",
    "    print(row[1])"
   ],
   "metadata": {
    "collapsed": false
   }
  },
  {
   "cell_type": "markdown",
   "source": [
    "#Going to next page"
   ],
   "metadata": {
    "collapsed": false
   }
  },
  {
   "cell_type": "code",
   "execution_count": 22,
   "outputs": [],
   "source": [
    "def get_url(search):\n",
    "    template='https://www.amazon.com/s?k={}&ref=nav_bb_sb'\n",
    "    search=search.replace(' ','+')\n",
    "\n",
    "    url=template.format(search)\n",
    "    url+='&page={}'\n",
    "    return url"
   ],
   "metadata": {
    "collapsed": false
   }
  },
  {
   "cell_type": "code",
   "execution_count": null,
   "outputs": [],
   "source": [],
   "metadata": {
    "collapsed": false,
    "pycharm": {
     "is_executing": true
    }
   }
  },
  {
   "cell_type": "code",
   "execution_count": null,
   "outputs": [],
   "source": [],
   "metadata": {
    "collapsed": false,
    "pycharm": {
     "is_executing": true
    }
   }
  },
  {
   "cell_type": "code",
   "execution_count": null,
   "outputs": [],
   "source": [],
   "metadata": {
    "collapsed": false,
    "pycharm": {
     "is_executing": true
    }
   }
  }
 ],
 "metadata": {
  "kernelspec": {
   "display_name": "Python 3",
   "language": "python",
   "name": "python3"
  },
  "language_info": {
   "codemirror_mode": {
    "name": "ipython",
    "version": 2
   },
   "file_extension": ".py",
   "mimetype": "text/x-python",
   "name": "python",
   "nbconvert_exporter": "python",
   "pygments_lexer": "ipython2",
   "version": "2.7.6"
  }
 },
 "nbformat": 4,
 "nbformat_minor": 0
}
